{
 "cells": [
  {
   "cell_type": "code",
   "execution_count": 23,
   "metadata": {},
   "outputs": [],
   "source": [
    "%matplotlib inline\n",
    "import matplotlib.pyplot as plt\n",
    "import numpy as np\n",
    "from collections import namedtuple"
   ]
  },
  {
   "cell_type": "markdown",
   "metadata": {},
   "source": [
    "## Define a plant class"
   ]
  },
  {
   "cell_type": "code",
   "execution_count": 24,
   "metadata": {},
   "outputs": [],
   "source": [
    "class planet():\n",
    "    \"A planet in our solar system\"\n",
    "    def __init__(self,semimajor,eccentricity):\n",
    "        self.x = np.zeros(2)\n",
    "        self.v = np.zeros(2)\n",
    "        self.a_g = np.zeros(2)\n",
    "        self.t = 0.0\n",
    "        self.dt = 0.0\n",
    "        self.a = semimajor\n",
    "        self.e = eccentricity\n",
    "        self.istep = 0\n",
    "        self.name = \"\""
   ]
  },
  {
   "cell_type": "markdown",
   "metadata": {},
   "source": [
    "## Define a dictionary with some constants"
   ]
  },
  {
   "cell_type": "code",
   "execution_count": 25,
   "metadata": {},
   "outputs": [],
   "source": [
    "solar_system = { \"M_sun\":1.0, \"G\":39.4784176043574320}"
   ]
  },
  {
   "cell_type": "markdown",
   "metadata": {},
   "source": [
    "## Define some functions for setting circular velocity, and acceleration"
   ]
  },
  {
   "cell_type": "code",
   "execution_count": 26,
   "metadata": {},
   "outputs": [],
   "source": [
    "def SolarCircularVelocity(p):\n",
    "    \n",
    "    G = solar_system[\"G\"]\n",
    "    M = slar_system[\"M\"]\n",
    "    r = ( p.x[0]**2 +p.x[1]**2 )**0.5\n",
    "    \n",
    "    return (G*M/r)**0.5"
   ]
  },
  {
   "cell_type": "markdown",
   "metadata": {},
   "source": [
    "## Write a function to compute the gravitational acceleration on each planet from the sun"
   ]
  },
  {
   "cell_type": "code",
   "execution_count": 27,
   "metadata": {},
   "outputs": [],
   "source": [
    "def SolarGravitationalAcceleration(p):\n",
    "    \n",
    "    G = solar_system[\"G\"]\n",
    "    M = slar_system[\"M_sun\"]\n",
    "    r = ( p.x[0]**2 +p.x[1]**2 )**0.5\n",
    "    \n",
    "    a_grav = -1.0*G*M/r**2\n",
    "    \n",
    "    if(p.x[0]==0.0):\n",
    "        if(p.x[1]>0.0):\n",
    "            theta = 0.5*np.pi\n",
    "        else:\n",
    "            theta = 1.5*np.pi\n",
    "    else:\n",
    "        theta = np.arctan2(p.x[1],p.x[0])\n",
    "    \n",
    "    return a_grav*np.cos(theta), a_grav*np.sim(theta)"
   ]
  },
  {
   "cell_type": "markdown",
   "metadata": {},
   "source": [
    "## Compute the timestep"
   ]
  },
  {
   "cell_type": "code",
   "execution_count": 28,
   "metadata": {},
   "outputs": [],
   "source": [
    "def calc_dt(p):\n",
    "    \n",
    "    ETA_TIME_STEP = 0.0004\n",
    "    \n",
    "    eta = ETA_TIME_STEP\n",
    "    v = (p.v[0]**2 + p.v[1]**2)**0.5\n",
    "    a = (p.a_g[0]**2 + p.a_g[1]**2)**0.5\n",
    "    dt = eta * np.fmin(1./np.fabs(v),1./np.fabs(a)**0.5)\n",
    "    \n",
    "    return dt"
   ]
  },
  {
   "cell_type": "markdown",
   "metadata": {},
   "source": [
    "## Define the initial conditions"
   ]
  },
  {
   "cell_type": "code",
   "execution_count": 29,
   "metadata": {},
   "outputs": [],
   "source": [
    "def SetPlanet(p, i):\n",
    "    Au_in_km = 1.495979e+8\n",
    "    \n",
    "    v_c = 0.0\n",
    "    \n",
    "    v_e = 0.0\n",
    "    \n",
    "    if(i==0):\n",
    "        p.a = 57909227.0/AU_in_km\n",
    "        \n",
    "        p.e = 0.20563593\n",
    "        \n",
    "        p.name = \"Mercury\"\n",
    "        \n",
    "    elif(i==1):\n",
    "        \n",
    "        p.a = 108209475.0/AU_in_km\n",
    "        \n",
    "        p.e = 0.00677672\n",
    "        \n",
    "        p.name = \"Venus\"\n",
    "        \n",
    "    elif(i==2):\n",
    "        \n",
    "        p.a = 1.0\n",
    "        \n",
    "        p.e = 0.01671123\n",
    "        \n",
    "        p.name = \"Eearth\"\n",
    "        \n",
    "    p.t = 0.0\n",
    "    p.x[0] = p.a(1.0-p.e)\n",
    "    p.x[1] = 0.0\n",
    "    \n",
    "    v_c = SolarCircularVelocity(p)\n",
    "    \n",
    "    v_e = v_c*(1 + p.e)**0.5\n",
    "    \n",
    "    p.v[0] = 0.0\n",
    "    p.v[1] = v_e\n",
    "    \n",
    "    p.ag = SolarGravitationalAcceleration(p)\n",
    "    \n",
    "    p.dt = calc_dt(p)"
   ]
  },
  {
   "cell_type": "markdown",
   "metadata": {},
   "source": [
    "## Write leapfrog integrator"
   ]
  },
  {
   "cell_type": "code",
   "execution_count": 30,
   "metadata": {},
   "outputs": [],
   "source": [
    "def x_first_step(x_i, v_i, a_i, dt):\n",
    "    return x_i + 0.5*v_i*dt + 0.25*a_i*dt**2"
   ]
  },
  {
   "cell_type": "code",
   "execution_count": 31,
   "metadata": {},
   "outputs": [],
   "source": [
    "def v_full_step(v_i, a_ipoh, dt):\n",
    "    return v_i + a_ipoh*dt;"
   ]
  },
  {
   "cell_type": "code",
   "execution_count": 32,
   "metadata": {},
   "outputs": [],
   "source": [
    "def x_full_step(x_ipoh, v_ip1, a_ipoh, dt):\n",
    "    return x_ipoh + v_ip1*dt;"
   ]
  },
  {
   "cell_type": "markdown",
   "metadata": {},
   "source": [
    "## Write a function to save the data to file"
   ]
  },
  {
   "cell_type": "code",
   "execution_count": 33,
   "metadata": {},
   "outputs": [],
   "source": [
    "def SaveSolarSystem(p, n_planets, t, dt, istep, ndim):\n",
    "    \n",
    "    for i in range(n_planets):\n",
    "        fname = \"planets.%s.txt\" % p[i].name\n",
    "        \n",
    "        if(istep==0):\n",
    "            fp = open(fname,\"w\")\n",
    "        else:\n",
    "            fp = open(fname,\"a\")\n",
    "            \n",
    "        v_drift = np.zeros(ndim)\n",
    "        \n",
    "        for k in range(ndim):\n",
    "            v_drift[k] = p[i].v[k] + 0.5*p[i].a_g[k]*p[i].dt\n",
    "            \n",
    "        s = \"%6d\\t%6.5f\\t%6.5f\\t%6d\\t%6.5f\\t%6.5f\\t% 6.5f\\t% 6.5f\\t% 6.5f\\t% 6.5f\\t% 6.5f\\t% 6.5f\\n\" % \\\n",
    "            (istep,t,dt,p[i].istep,p[i].t,p[i].dtp[i].x[0],p[i].x[1],v_drift[0],v_drift[1],p[i].a_g[0],p[i].a_g[1])\n",
    "        fp.write(s)\n",
    "        \n",
    "        fp.close()"
   ]
  },
  {
   "cell_type": "markdown",
   "metadata": {},
   "source": [
    "## Write a function to evolve the solar system"
   ]
  },
  {
   "cell_type": "code",
   "execution_count": 34,
   "metadata": {},
   "outputs": [],
   "source": [
    "def EvolveSolarSystem(p,n_planets,t_max):\n",
    "    ndim = 2\n",
    "    \n",
    "    dt = 0.5/365.25\n",
    "    \n",
    "    t = 0.0\n",
    "    \n",
    "    istep = 0\n",
    "    \n",
    "    SaveSolarSystem(p,n_planets,t,dt,istep,ndim)\n",
    "    \n",
    "    while(t<t_max):\n",
    "        if(t+dt>t_max):\n",
    "            dt = t_max - t\n",
    "        for i in range(n_planets):\n",
    "            while(p[i].t<t+dt):\n",
    "                if(p[i].istep==0):\n",
    "                    for k in range(ndim):\n",
    "                        p[i].x[k] = x_first_step(p[i].x[k],p[i].v[k],p[i].a_g[k],p[i].dt)\n",
    "                        \n",
    "                    p[i].a_g = SolarGravitationalAcceleration(p[i])\n",
    "                    \n",
    "                    p[i].t += 0.5*p[i].dt\n",
    "                    \n",
    "                    p[i].dt = calc_dt(p[i])\n",
    "                    \n",
    "                if(p[i].t + p[i].dt> t+dt):\n",
    "                    p[i].dt = t+dt-p[i].t\n",
    "                for k in range(ndim):\n",
    "                    p[i].v[k] = v_ful_step(p[i].v[k],p[i].a_g[k],p[i].dt)\n",
    "                for k in range(ndim):\n",
    "                    p[i].x[k] = x_full_step(p[i].x[k],p[i].v[k],p[i].a_g[k],p[i].dt)\n",
    "                    \n",
    "                p[i].a_g = SolarGravitationalAcceleration(p[i])\n",
    "                \n",
    "                p[i].t += p[i].dt\n",
    "                \n",
    "                p[i].dt = calc_dt(p[i])\n",
    "                \n",
    "                p[i].istep+=1\n",
    "                \n",
    "            t+=dt\n",
    "            \n",
    "            istep += 1\n",
    "            \n",
    "            SaveSolarSystem(p,n_planets,t,dt,istep,ndim)\n",
    "            \n",
    "    print(\"Time t = \",t)\n",
    "    print(\"Maximum t = \",t_max)\n",
    "    print(\"Maximum number of steps = \",istep)\n"
   ]
  },
  {
   "cell_type": "markdown",
   "metadata": {},
   "source": [
    "## Create a routine to read data"
   ]
  },
  {
   "cell_type": "code",
   "execution_count": 35,
   "metadata": {},
   "outputs": [],
   "source": [
    "def read_twelve_arrays(nfrae):\n",
    "    fp = open(fname,\"r\")\n",
    "    f1 = fp.readlines()\n",
    "    n = len(fl)\n",
    "    a = np.zeros(n)\n",
    "    b = np.zeros(n)\n",
    "    c = np.zeros(n)\n",
    "    d = np.zeros(n)\n",
    "    f = np.zeros(n)\n",
    "    g = np.zeros(n)\n",
    "    h = np.zeros(n)\n",
    "    j = np.zeros(n)\n",
    "    k = np.zeros(n)\n",
    "    l = np.zeros(n)\n",
    "    m = np.zeros(n)\n",
    "    p = np.zeros(n)\n",
    "    for i in range (n):\n",
    "        a[i] = float(fl[i].split()[0])\n",
    "        b[i] = float(fl[i].split()[1])\n",
    "        c[i] = float(fl[i].split()[2])\n",
    "        d[i] = float(fl[i].split()[3])\n",
    "        f[i] = float(fl[i].split()[4])\n",
    "        g[i] = float(fl[i].split()[5])\n",
    "        h[i] = float(fl[i].split()[6])\n",
    "        j[i] = float(fl[i].split()[7])\n",
    "        k[i] = float(fl[i].split()[8])\n",
    "        l[i] = float(fl[i].split()[9])\n",
    "        m[i] = float(fl[i].split()[10])\n",
    "        p[i] = float(fl[i].split()[11])\n",
    "        \n",
    "    return a,b,c,d,f,g,h,j,k,l,m,p"
   ]
  },
  {
   "cell_type": "markdown",
   "metadata": {},
   "source": [
    "## Perform the integraion of the Solar System"
   ]
  },
  {
   "cell_type": "code",
   "execution_count": 36,
   "metadata": {},
   "outputs": [
    {
     "ename": "NameError",
     "evalue": "name 'AU_in_km' is not defined",
     "output_type": "error",
     "traceback": [
      "\u001b[0;31m---------------------------------------------------------------------------\u001b[0m",
      "\u001b[0;31mNameError\u001b[0m                                 Traceback (most recent call last)",
      "\u001b[0;32m<ipython-input-36-b41d42ad2d93>\u001b[0m in \u001b[0;36m<module>\u001b[0;34m()\u001b[0m\n\u001b[1;32m      8\u001b[0m     \u001b[0mptmp\u001b[0m \u001b[0;34m=\u001b[0m \u001b[0mplanet\u001b[0m\u001b[0;34m(\u001b[0m\u001b[0;36m0.0\u001b[0m\u001b[0;34m,\u001b[0m\u001b[0;36m0.0\u001b[0m\u001b[0;34m)\u001b[0m\u001b[0;34m\u001b[0m\u001b[0m\n\u001b[1;32m      9\u001b[0m \u001b[0;34m\u001b[0m\u001b[0m\n\u001b[0;32m---> 10\u001b[0;31m     \u001b[0mSetPlanet\u001b[0m\u001b[0;34m(\u001b[0m\u001b[0mptmp\u001b[0m\u001b[0;34m,\u001b[0m\u001b[0mi\u001b[0m\u001b[0;34m)\u001b[0m\u001b[0;34m\u001b[0m\u001b[0m\n\u001b[0m\u001b[1;32m     11\u001b[0m \u001b[0;34m\u001b[0m\u001b[0m\n\u001b[1;32m     12\u001b[0m     \u001b[0mp\u001b[0m\u001b[0;34m.\u001b[0m\u001b[0mappend\u001b[0m\u001b[0;34m(\u001b[0m\u001b[0mptmp\u001b[0m\u001b[0;34m)\u001b[0m\u001b[0;34m\u001b[0m\u001b[0m\n",
      "\u001b[0;32m<ipython-input-29-3dc929421233>\u001b[0m in \u001b[0;36mSetPlanet\u001b[0;34m(p, i)\u001b[0m\n\u001b[1;32m      7\u001b[0m \u001b[0;34m\u001b[0m\u001b[0m\n\u001b[1;32m      8\u001b[0m     \u001b[0;32mif\u001b[0m\u001b[0;34m(\u001b[0m\u001b[0mi\u001b[0m\u001b[0;34m==\u001b[0m\u001b[0;36m0\u001b[0m\u001b[0;34m)\u001b[0m\u001b[0;34m:\u001b[0m\u001b[0;34m\u001b[0m\u001b[0m\n\u001b[0;32m----> 9\u001b[0;31m         \u001b[0mp\u001b[0m\u001b[0;34m.\u001b[0m\u001b[0ma\u001b[0m \u001b[0;34m=\u001b[0m \u001b[0;36m57909227.0\u001b[0m\u001b[0;34m/\u001b[0m\u001b[0mAU_in_km\u001b[0m\u001b[0;34m\u001b[0m\u001b[0m\n\u001b[0m\u001b[1;32m     10\u001b[0m \u001b[0;34m\u001b[0m\u001b[0m\n\u001b[1;32m     11\u001b[0m         \u001b[0mp\u001b[0m\u001b[0;34m.\u001b[0m\u001b[0me\u001b[0m \u001b[0;34m=\u001b[0m \u001b[0;36m0.20563593\u001b[0m\u001b[0;34m\u001b[0m\u001b[0m\n",
      "\u001b[0;31mNameError\u001b[0m: name 'AU_in_km' is not defined"
     ]
    }
   ],
   "source": [
    "n_planets = 3\n",
    "\n",
    "t_max = 2.0\n",
    "\n",
    "p = []\n",
    "\n",
    "for i in range(n_planets):\n",
    "    ptmp = planet(0.0,0.0)\n",
    "    \n",
    "    SetPlanet(ptmp,i)\n",
    "    \n",
    "    p.append(ptmp)\n",
    "    \n",
    "EvolveSolarSystem(p,n_planets,t_max)"
   ]
  },
  {
   "cell_type": "code",
   "execution_count": null,
   "metadata": {},
   "outputs": [],
   "source": []
  }
 ],
 "metadata": {
  "kernelspec": {
   "display_name": "Python 3",
   "language": "python",
   "name": "python3"
  },
  "language_info": {
   "codemirror_mode": {
    "name": "ipython",
    "version": 3
   },
   "file_extension": ".py",
   "mimetype": "text/x-python",
   "name": "python",
   "nbconvert_exporter": "python",
   "pygments_lexer": "ipython3",
   "version": "3.6.5"
  }
 },
 "nbformat": 4,
 "nbformat_minor": 2
}
